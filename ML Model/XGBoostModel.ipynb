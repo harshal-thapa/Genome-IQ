{
  "nbformat": 4,
  "nbformat_minor": 0,
  "metadata": {
    "colab": {
      "provenance": []
    },
    "kernelspec": {
      "name": "python3",
      "display_name": "Python 3"
    },
    "language_info": {
      "name": "python"
    }
  },
  "cells": [
    {
      "cell_type": "code",
      "execution_count": 1,
      "metadata": {
        "colab": {
          "base_uri": "https://localhost:8080/"
        },
        "id": "wyH1hqf7F4AH",
        "outputId": "6cb70cfe-afe7-4270-f47c-cbbc2bcb1745"
      },
      "outputs": [
        {
          "output_type": "stream",
          "name": "stdout",
          "text": [
            "PhenotypeList\n",
            "Cardiovascular phenotype                      800\n",
            "Developmental and epileptic encephalopathy    800\n",
            "Fanconi anemia                                800\n",
            "Inborn genetic diseases                       800\n",
            "Hereditary cancer-predisposing syndrome       800\n",
            "Name: count, dtype: int64\n"
          ]
        }
      ],
      "source": [
        "import pandas as pd\n",
        "import random\n",
        "\n",
        "# Define alleles\n",
        "alleles = [\"A\", \"T\", \"G\", \"C\"]\n",
        "\n",
        "# Define gene sets for each disease\n",
        "disease_genes = {\n",
        "    \"Cardiovascular phenotype\": [\"DSP\", \"SCN10A\", \"TTN\", \"MYH6\", \"LMNA\"],\n",
        "    \"Hereditary cancer-predisposing syndrome\": [\"BRCA1\", \"BRCA2\", \"TP53\", \"PTEN\", \"PRKAR1A\"],\n",
        "    \"Inborn genetic diseases\": [\"KRT14\", \"ERCC2\", \"COL7A1\", \"ABCA1\", \"CFTR\"],\n",
        "    \"Fanconi anemia\": [\"FANCA\", \"FANCB\", \"FANCC\", \"FANCD2\", \"FANCE\"],\n",
        "    \"Developmental and epileptic encephalopathy\": [\"SCN1A\", \"SCN2A\", \"KCNQ2\", \"STXBP1\", \"CDKL5\"]\n",
        "}\n",
        "\n",
        "def generate_variant(gene, disease):\n",
        "    reference_allele = random.choice(alleles)\n",
        "\n",
        "    alternate_alleles = [a for a in alleles if a != reference_allele]\n",
        "    alternate_allele = random.choice(alternate_alleles)\n",
        "\n",
        "    return {\n",
        "        \"Type\": random.choice([\"single nucleotide variant\", \"Deletion\"]),\n",
        "        \"GeneSymbol\": gene,\n",
        "        \"HGNC_ID\": f\"HGNC:{random.randint(100, 99999)}\",\n",
        "        \"PhenotypeList\": disease,\n",
        "        \"Assembly\": random.choice([\"GRCh37\", \"GRCh38\"]),\n",
        "        \"ChromosomeAccession\": f\"NC_{random.randint(1, 22):06d}.{random.randint(1,20)}\",\n",
        "        \"Chromosome\": random.choice([str(i) for i in range(1,23)] + [\"X\",\"Y\"]),\n",
        "        \"Cytogenetic\": f\"{random.randint(1,22)}q{random.randint(1,36)}.{random.randint(1,3)}\",\n",
        "        \"PositionVCF\": random.randint(10000, 200000000),\n",
        "        \"ReferenceAlleleVCF\": reference_allele,\n",
        "        \"AlternateAlleleVCF\": alternate_allele\n",
        "    }\n",
        "\n",
        "# Build dataset\n",
        "rows = []\n",
        "for disease, genes in disease_genes.items():\n",
        "    for _ in range(800):\n",
        "        gene = random.choice(genes)\n",
        "        rows.append(generate_variant(gene, disease))\n",
        "\n",
        "# Create DataFrame\n",
        "balanced_df = pd.DataFrame(rows)\n",
        "\n",
        "# Shuffle\n",
        "balanced_df = balanced_df.sample(frac=1, random_state=42).reset_index(drop=True)\n",
        "\n",
        "# Save dataset\n",
        "balanced_df.to_csv(\"balanced_genetics_dataset.csv\", index=False)\n",
        "\n",
        "print(balanced_df[\"PhenotypeList\"].value_counts())"
      ]
    },
    {
      "cell_type": "code",
      "source": [
        "from google.colab import files\n",
        "files.download(\"balanced_genetics_dataset.csv\")\n"
      ],
      "metadata": {
        "colab": {
          "base_uri": "https://localhost:8080/",
          "height": 17
        },
        "id": "DUh_67HaGTt_",
        "outputId": "8a0b9002-3c68-47b4-b799-bb468d3aa985"
      },
      "execution_count": 2,
      "outputs": [
        {
          "output_type": "display_data",
          "data": {
            "text/plain": [
              "<IPython.core.display.Javascript object>"
            ],
            "application/javascript": [
              "\n",
              "    async function download(id, filename, size) {\n",
              "      if (!google.colab.kernel.accessAllowed) {\n",
              "        return;\n",
              "      }\n",
              "      const div = document.createElement('div');\n",
              "      const label = document.createElement('label');\n",
              "      label.textContent = `Downloading \"${filename}\": `;\n",
              "      div.appendChild(label);\n",
              "      const progress = document.createElement('progress');\n",
              "      progress.max = size;\n",
              "      div.appendChild(progress);\n",
              "      document.body.appendChild(div);\n",
              "\n",
              "      const buffers = [];\n",
              "      let downloaded = 0;\n",
              "\n",
              "      const channel = await google.colab.kernel.comms.open(id);\n",
              "      // Send a message to notify the kernel that we're ready.\n",
              "      channel.send({})\n",
              "\n",
              "      for await (const message of channel.messages) {\n",
              "        // Send a message to notify the kernel that we're ready.\n",
              "        channel.send({})\n",
              "        if (message.buffers) {\n",
              "          for (const buffer of message.buffers) {\n",
              "            buffers.push(buffer);\n",
              "            downloaded += buffer.byteLength;\n",
              "            progress.value = downloaded;\n",
              "          }\n",
              "        }\n",
              "      }\n",
              "      const blob = new Blob(buffers, {type: 'application/binary'});\n",
              "      const a = document.createElement('a');\n",
              "      a.href = window.URL.createObjectURL(blob);\n",
              "      a.download = filename;\n",
              "      div.appendChild(a);\n",
              "      a.click();\n",
              "      div.remove();\n",
              "    }\n",
              "  "
            ]
          },
          "metadata": {}
        },
        {
          "output_type": "display_data",
          "data": {
            "text/plain": [
              "<IPython.core.display.Javascript object>"
            ],
            "application/javascript": [
              "download(\"download_ea9c8413-8d02-4f3f-9539-dbbbf4e4818f\", \"balanced_genetics_dataset.csv\", 426709)"
            ]
          },
          "metadata": {}
        }
      ]
    },
    {
      "cell_type": "code",
      "source": [
        "import pandas as pd\n",
        "import numpy as np\n",
        "from sklearn.model_selection import train_test_split, GridSearchCV\n",
        "from sklearn.preprocessing import OneHotEncoder, StandardScaler\n",
        "from sklearn.compose import ColumnTransformer\n",
        "from sklearn.pipeline import Pipeline\n",
        "from xgboost import XGBClassifier\n",
        "import pickle"
      ],
      "metadata": {
        "id": "uBsqPjeYHLak"
      },
      "execution_count": 3,
      "outputs": []
    },
    {
      "cell_type": "code",
      "source": [
        "# Load dataset (from previous step)\n",
        "df = pd.read_csv(\"balanced_genetics_dataset.csv\")\n",
        "\n",
        "# Features and Target\n",
        "X = df.drop(columns=[\"PhenotypeList\"])  # input features\n",
        "y = df[\"PhenotypeList\"]  # target column\n"
      ],
      "metadata": {
        "id": "k0t-1h3nHVGz"
      },
      "execution_count": 4,
      "outputs": []
    },
    {
      "cell_type": "code",
      "source": [
        "# Categorical and numerical features\n",
        "categorical_features = [\"Type\", \"GeneSymbol\", \"Assembly\", \"ChromosomeAccession\",\n",
        "                        \"Chromosome\", \"Cytogenetic\", \"ReferenceAlleleVCF\", \"AlternateAlleleVCF\"]\n",
        "numeric_features = [\"PositionVCF\"]\n",
        "\n",
        "# Column Transformer\n",
        "preprocessor = ColumnTransformer(\n",
        "    transformers=[\n",
        "        (\"cat\", OneHotEncoder(handle_unknown=\"ignore\"), categorical_features),\n",
        "        (\"num\", StandardScaler(), numeric_features)\n",
        "    ]\n",
        ")\n"
      ],
      "metadata": {
        "id": "YiTPdwhuITSP"
      },
      "execution_count": 5,
      "outputs": []
    },
    {
      "cell_type": "code",
      "source": [
        "xgb = XGBClassifier(\n",
        "    objective=\"multi:softprob\",\n",
        "    eval_metric=\"mlogloss\",\n",
        "    use_label_encoder=False,\n",
        "    random_state=42\n",
        ")\n",
        "\n",
        "# Build pipeline\n",
        "pipe = Pipeline(steps=[\n",
        "    (\"preprocessor\", preprocessor),\n",
        "    (\"classifier\", xgb)\n",
        "])\n"
      ],
      "metadata": {
        "id": "veWHAHi3IUOw"
      },
      "execution_count": 6,
      "outputs": []
    },
    {
      "cell_type": "code",
      "source": [
        "# Load dataset (from previous step)\n",
        "df = pd.read_csv(\"balanced_genetics_dataset.csv\")\n",
        "\n",
        "# Features and Target\n",
        "X = df.drop(columns=[\"PhenotypeList\"])  # input features\n",
        "y = df[\"PhenotypeList\"]  # target column\n",
        "\n",
        "# Split dataset\n",
        "X_train, X_test, y_train, y_test = train_test_split(\n",
        "    X, y, test_size=0.2, random_state=42, stratify=y\n",
        ")\n",
        "\n",
        "# Encode target labels\n",
        "from sklearn.preprocessing import LabelEncoder\n",
        "le = LabelEncoder()\n",
        "y_train_encoded = le.fit_transform(y_train)\n",
        "y_test_encoded = le.transform(y_test)\n",
        "\n",
        "# Grid of hyperparameters\n",
        "param_grid = {\n",
        "    \"classifier__n_estimators\": [200, 400],\n",
        "    \"classifier__max_depth\": [4, 6, 8],\n",
        "    \"classifier__learning_rate\": [0.05, 0.1],\n",
        "    \"classifier__subsample\": [0.8, 1.0],\n",
        "    \"classifier__colsample_bytree\": [0.8, 1.0]\n",
        "}\n",
        "\n",
        "# GridSearchCV\n",
        "grid_search = GridSearchCV(\n",
        "    estimator=pipe,\n",
        "    param_grid=param_grid,\n",
        "    cv=3,\n",
        "    scoring=\"accuracy\",\n",
        "    n_jobs=-1,\n",
        "    verbose=2\n",
        ")\n",
        "\n",
        "# Fit the model\n",
        "grid_search.fit(X_train, y_train_encoded)\n",
        "\n",
        "print(\"Best Parameters:\", grid_search.best_params_)\n",
        "print(\"Best CV Accuracy:\", grid_search.best_score_)"
      ],
      "metadata": {
        "colab": {
          "base_uri": "https://localhost:8080/"
        },
        "id": "coW013wKIY5F",
        "outputId": "7544da43-8356-4743-ca4f-a3e15a348387"
      },
      "execution_count": 7,
      "outputs": [
        {
          "output_type": "stream",
          "name": "stdout",
          "text": [
            "Fitting 3 folds for each of 48 candidates, totalling 144 fits\n"
          ]
        },
        {
          "output_type": "stream",
          "name": "stderr",
          "text": [
            "/usr/local/lib/python3.12/dist-packages/xgboost/training.py:183: UserWarning: [08:57:06] WARNING: /workspace/src/learner.cc:738: \n",
            "Parameters: { \"use_label_encoder\" } are not used.\n",
            "\n",
            "  bst.update(dtrain, iteration=i, fobj=obj)\n"
          ]
        },
        {
          "output_type": "stream",
          "name": "stdout",
          "text": [
            "Best Parameters: {'classifier__colsample_bytree': 0.8, 'classifier__learning_rate': 0.05, 'classifier__max_depth': 4, 'classifier__n_estimators': 200, 'classifier__subsample': 0.8}\n",
            "Best CV Accuracy: 1.0\n"
          ]
        }
      ]
    },
    {
      "cell_type": "code",
      "source": [
        "from sklearn.metrics import classification_report, confusion_matrix\n",
        "\n",
        "# Predictions on test set\n",
        "y_pred = grid_search.predict(X_test)\n",
        "\n",
        "print(\"\\nClassification Report:\\n\", classification_report(y_test_encoded, y_pred))\n",
        "print(\"\\nConfusion Matrix:\\n\", confusion_matrix(y_test_encoded, y_pred))\n",
        "\n",
        "# Save the trained model as pickle\n",
        "with open(\"xgboost_genetics_model.pkl\", \"wb\") as f:\n",
        "    pickle.dump(grid_search.best_estimator_, f)\n",
        "\n",
        "print(\"✅ Model saved as xgboost_genetics_model.pkl\")"
      ],
      "metadata": {
        "colab": {
          "base_uri": "https://localhost:8080/"
        },
        "id": "6x037mi2Ibsr",
        "outputId": "a12b01cf-8d32-4114-a538-929cd83e6c91"
      },
      "execution_count": 8,
      "outputs": [
        {
          "output_type": "stream",
          "name": "stdout",
          "text": [
            "\n",
            "Classification Report:\n",
            "               precision    recall  f1-score   support\n",
            "\n",
            "           0       1.00      1.00      1.00       160\n",
            "           1       1.00      1.00      1.00       160\n",
            "           2       1.00      1.00      1.00       160\n",
            "           3       1.00      1.00      1.00       160\n",
            "           4       1.00      1.00      1.00       160\n",
            "\n",
            "    accuracy                           1.00       800\n",
            "   macro avg       1.00      1.00      1.00       800\n",
            "weighted avg       1.00      1.00      1.00       800\n",
            "\n",
            "\n",
            "Confusion Matrix:\n",
            " [[160   0   0   0   0]\n",
            " [  0 160   0   0   0]\n",
            " [  0   0 160   0   0]\n",
            " [  0   0   0 160   0]\n",
            " [  0   0   0   0 160]]\n",
            "✅ Model saved as xgboost_genetics_model.pkl\n"
          ]
        }
      ]
    },
    {
      "cell_type": "code",
      "source": [
        "with open(\"xgboost_genetics_model.pkl\", \"rb\") as f:\n",
        "    loaded_model = pickle.load(f)\n",
        "\n",
        "# Example test\n",
        "example = pd.DataFrame([{\n",
        "    \"Type\": \"single nucleotide variant\",\n",
        "    \"GeneSymbol\": \"SCN10A\",\n",
        "    \"HGNC_ID\": \"HGNC:10582\",\n",
        "    \"Assembly\": \"GRCh37\",\n",
        "    \"ChromosomeAccession\": \"NC_000003.11\",\n",
        "    \"Chromosome\": \"3\",\n",
        "    \"Cytogenetic\": \"3p22.2\",\n",
        "    \"PositionVCF\": 38835431,\n",
        "    \"ReferenceAlleleVCF\": \"A\",\n",
        "    \"AlternateAlleleVCF\": \"G\"\n",
        "}])\n",
        "\n",
        "print(\"Prediction:\", loaded_model.predict(example))\n"
      ],
      "metadata": {
        "colab": {
          "base_uri": "https://localhost:8080/"
        },
        "id": "fbDnTwcuJA-N",
        "outputId": "f5c89ff9-aa0f-44a7-b86c-b4d5ba69ce05"
      },
      "execution_count": 9,
      "outputs": [
        {
          "output_type": "stream",
          "name": "stdout",
          "text": [
            "Prediction: [0]\n"
          ]
        }
      ]
    },
    {
      "cell_type": "code",
      "source": [
        "import pandas as pd\n",
        "\n",
        "test_examples = pd.DataFrame([\n",
        "    # Cardiovascular phenotype\n",
        "    {\n",
        "        \"Type\": \"single nucleotide variant\",\n",
        "        \"GeneSymbol\": \"DSP\",\n",
        "        \"HGNC_ID\": \"HGNC:3052\",\n",
        "        \"Assembly\": \"GRCh37\",\n",
        "        \"ChromosomeAccession\": \"NC_000006.11\",\n",
        "        \"Chromosome\": \"6\",\n",
        "        \"Cytogenetic\": \"6p24.3\",\n",
        "        \"PositionVCF\": 7584161,\n",
        "        \"ReferenceAlleleVCF\": \"A\",\n",
        "        \"AlternateAlleleVCF\": \"G\"\n",
        "    },\n",
        "    {\n",
        "        \"Type\": \"single nucleotide variant\",\n",
        "        \"GeneSymbol\": \"SCN10A\",\n",
        "        \"HGNC_ID\": \"HGNC:10582\",\n",
        "        \"Assembly\": \"GRCh37\",\n",
        "        \"ChromosomeAccession\": \"NC_000003.11\",\n",
        "        \"Chromosome\": \"3\",\n",
        "        \"Cytogenetic\": \"3p22.2\",\n",
        "        \"PositionVCF\": 38835431,\n",
        "        \"ReferenceAlleleVCF\": \"A\",\n",
        "        \"AlternateAlleleVCF\": \"G\"\n",
        "    },\n",
        "\n",
        "    # Hereditary cancer-predisposing syndrome\n",
        "    {\n",
        "        \"Type\": \"Deletion\",\n",
        "        \"GeneSymbol\": \"BRCA1\",\n",
        "        \"HGNC_ID\": \"HGNC:1100\",\n",
        "        \"Assembly\": \"GRCh38\",\n",
        "        \"ChromosomeAccession\": \"NC_000017.11\",\n",
        "        \"Chromosome\": \"17\",\n",
        "        \"Cytogenetic\": \"17q21.31\",\n",
        "        \"PositionVCF\": 43091818,\n",
        "        \"ReferenceAlleleVCF\": \"GGT\",\n",
        "        \"AlternateAlleleVCF\": \"G\"\n",
        "    },\n",
        "    {\n",
        "        \"Type\": \"single nucleotide variant\",\n",
        "        \"GeneSymbol\": \"PRKAR1A\",\n",
        "        \"HGNC_ID\": \"HGNC:9388\",\n",
        "        \"Assembly\": \"GRCh38\",\n",
        "        \"ChromosomeAccession\": \"NC_000017.11\",\n",
        "        \"Chromosome\": \"17\",\n",
        "        \"Cytogenetic\": \"17q24.2\",\n",
        "        \"PositionVCF\": 68525750,\n",
        "        \"ReferenceAlleleVCF\": \"T\",\n",
        "        \"AlternateAlleleVCF\": \"G\"\n",
        "    },\n",
        "\n",
        "    # Inborn genetic diseases\n",
        "    {\n",
        "        \"Type\": \"single nucleotide variant\",\n",
        "        \"GeneSymbol\": \"KRT14\",\n",
        "        \"HGNC_ID\": \"HGNC:6416\",\n",
        "        \"Assembly\": \"GRCh38\",\n",
        "        \"ChromosomeAccession\": \"NC_000017.11\",\n",
        "        \"Chromosome\": \"17\",\n",
        "        \"Cytogenetic\": \"17q21.2\",\n",
        "        \"PositionVCF\": 41584300,\n",
        "        \"ReferenceAlleleVCF\": \"C\",\n",
        "        \"AlternateAlleleVCF\": \"T\"\n",
        "    },\n",
        "    {\n",
        "        \"Type\": \"single nucleotide variant\",\n",
        "        \"GeneSymbol\": \"ERCC2\",\n",
        "        \"HGNC_ID\": \"HGNC:3434\",\n",
        "        \"Assembly\": \"GRCh38\",\n",
        "        \"ChromosomeAccession\": \"NC_000019.10\",\n",
        "        \"Chromosome\": \"19\",\n",
        "        \"Cytogenetic\": \"19q13.32\",\n",
        "        \"PositionVCF\": 45364260,\n",
        "        \"ReferenceAlleleVCF\": \"C\",\n",
        "        \"AlternateAlleleVCF\": \"G\"\n",
        "    },\n",
        "\n",
        "    # Developmental and epileptic encephalopathy\n",
        "    {\n",
        "        \"Type\": \"single nucleotide variant\",\n",
        "        \"GeneSymbol\": \"SCN1A\",\n",
        "        \"HGNC_ID\": \"HGNC:10585\",\n",
        "        \"Assembly\": \"GRCh37\",\n",
        "        \"ChromosomeAccession\": \"NC_000002.11\",\n",
        "        \"Chromosome\": \"2\",\n",
        "        \"Cytogenetic\": \"2q24.3\",\n",
        "        \"PositionVCF\": 166850411,\n",
        "        \"ReferenceAlleleVCF\": \"A\",\n",
        "        \"AlternateAlleleVCF\": \"G\"\n",
        "    },\n",
        "    {\n",
        "        \"Type\": \"single nucleotide variant\",\n",
        "        \"GeneSymbol\": \"KCNQ2\",\n",
        "        \"HGNC_ID\": \"HGNC:6295\",\n",
        "        \"Assembly\": \"GRCh37\",\n",
        "        \"ChromosomeAccession\": \"NC_000020.11\",\n",
        "        \"Chromosome\": \"20\",\n",
        "        \"Cytogenetic\": \"20q13.33\",\n",
        "        \"PositionVCF\": 63445631,\n",
        "        \"ReferenceAlleleVCF\": \"C\",\n",
        "        \"AlternateAlleleVCF\": \"T\"\n",
        "    }\n",
        "])\n",
        "\n",
        "print(test_examples)\n"
      ],
      "metadata": {
        "colab": {
          "base_uri": "https://localhost:8080/"
        },
        "id": "4Qn_Ve_jKN6u",
        "outputId": "bbcc09a0-fee8-4368-b565-072144bd422c"
      },
      "execution_count": 10,
      "outputs": [
        {
          "output_type": "stream",
          "name": "stdout",
          "text": [
            "                        Type GeneSymbol     HGNC_ID Assembly  \\\n",
            "0  single nucleotide variant        DSP   HGNC:3052   GRCh37   \n",
            "1  single nucleotide variant     SCN10A  HGNC:10582   GRCh37   \n",
            "2                   Deletion      BRCA1   HGNC:1100   GRCh38   \n",
            "3  single nucleotide variant    PRKAR1A   HGNC:9388   GRCh38   \n",
            "4  single nucleotide variant      KRT14   HGNC:6416   GRCh38   \n",
            "5  single nucleotide variant      ERCC2   HGNC:3434   GRCh38   \n",
            "6  single nucleotide variant      SCN1A  HGNC:10585   GRCh37   \n",
            "7  single nucleotide variant      KCNQ2   HGNC:6295   GRCh37   \n",
            "\n",
            "  ChromosomeAccession Chromosome Cytogenetic  PositionVCF ReferenceAlleleVCF  \\\n",
            "0        NC_000006.11          6      6p24.3      7584161                  A   \n",
            "1        NC_000003.11          3      3p22.2     38835431                  A   \n",
            "2        NC_000017.11         17    17q21.31     43091818                GGT   \n",
            "3        NC_000017.11         17     17q24.2     68525750                  T   \n",
            "4        NC_000017.11         17     17q21.2     41584300                  C   \n",
            "5        NC_000019.10         19    19q13.32     45364260                  C   \n",
            "6        NC_000002.11          2      2q24.3    166850411                  A   \n",
            "7        NC_000020.11         20    20q13.33     63445631                  C   \n",
            "\n",
            "  AlternateAlleleVCF  \n",
            "0                  G  \n",
            "1                  G  \n",
            "2                  G  \n",
            "3                  G  \n",
            "4                  T  \n",
            "5                  G  \n",
            "6                  G  \n",
            "7                  T  \n"
          ]
        }
      ]
    },
    {
      "cell_type": "code",
      "source": [
        "import pickle\n",
        "\n",
        "# Load model\n",
        "with open(\"xgboost_genetics_model.pkl\", \"rb\") as f:\n",
        "    loaded_model = pickle.load(f)\n",
        "\n",
        "# Predict\n",
        "preds = loaded_model.predict(test_examples)\n",
        "results = pd.DataFrame({\"GeneSymbol\": test_examples[\"GeneSymbol\"], \"Predicted Phenotype\": preds})\n",
        "\n",
        "print(results)\n"
      ],
      "metadata": {
        "colab": {
          "base_uri": "https://localhost:8080/"
        },
        "id": "fz5BZtBaKwK2",
        "outputId": "99e10f30-ce6b-4447-87ff-77beec89d124"
      },
      "execution_count": 11,
      "outputs": [
        {
          "output_type": "stream",
          "name": "stdout",
          "text": [
            "  GeneSymbol  Predicted Phenotype\n",
            "0        DSP                    0\n",
            "1     SCN10A                    0\n",
            "2      BRCA1                    3\n",
            "3    PRKAR1A                    3\n",
            "4      KRT14                    4\n",
            "5      ERCC2                    4\n",
            "6      SCN1A                    1\n",
            "7      KCNQ2                    1\n"
          ]
        }
      ]
    },
    {
      "cell_type": "code",
      "source": [
        "# Get back the original class labels\n",
        "class_labels = loaded_model.named_steps[\"classifier\"].classes_\n",
        "\n",
        "# Convert numeric predictions to phenotype names\n",
        "decoded_preds = [class_labels[p] for p in preds]\n",
        "\n",
        "results = pd.DataFrame({\n",
        "    \"GeneSymbol\": test_examples[\"GeneSymbol\"],\n",
        "    \"Predicted Phenotype\": decoded_preds\n",
        "})\n",
        "\n",
        "print(results)\n"
      ],
      "metadata": {
        "colab": {
          "base_uri": "https://localhost:8080/"
        },
        "id": "ehKRwa6sK09n",
        "outputId": "dfee8772-5974-4927-9380-fd359402d6c1"
      },
      "execution_count": 12,
      "outputs": [
        {
          "output_type": "stream",
          "name": "stdout",
          "text": [
            "  GeneSymbol  Predicted Phenotype\n",
            "0        DSP                    0\n",
            "1     SCN10A                    0\n",
            "2      BRCA1                    3\n",
            "3    PRKAR1A                    3\n",
            "4      KRT14                    4\n",
            "5      ERCC2                    4\n",
            "6      SCN1A                    1\n",
            "7      KCNQ2                    1\n"
          ]
        }
      ]
    }
  ]
}